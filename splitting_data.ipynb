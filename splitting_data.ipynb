{
 "cells": [
  {
   "cell_type": "code",
   "execution_count": 36,
   "outputs": [
    {
     "name": "stderr",
     "output_type": "stream",
     "text": [
      "Copying files: 853 files [00:09, 90.13 files/s] \n"
     ]
    }
   ],
   "source": [
    "import splitfolders\n",
    "\n",
    "path = 'datasets/masks/input'\n",
    "output = 'datasets/masks/output'\n",
    "splitfolders.ratio(path, output=output, seed=1337, ratio=(0.8, 0.1,0.1), group_prefix=2)"
   ],
   "metadata": {
    "collapsed": false,
    "pycharm": {
     "name": "#%%\n"
    }
   }
  },
  {
   "cell_type": "code",
   "execution_count": 38,
   "outputs": [],
   "source": [
    "import os\n",
    "import shutil\n",
    "\n",
    "def separate_different_suffixes(directory, save_path, suffix):\n",
    "    if not os.path.exists(save_path):\n",
    "        os.makedirs(save_path)\n",
    "    for filename in os.listdir(directory):\n",
    "        if filename.endswith(suffix):\n",
    "            src_path = os.path.join(directory, filename)\n",
    "            desc_path = os.path.join(save_path, filename)\n",
    "            shutil.move(src_path, desc_path)\n",
    "\n",
    "#separate_different_suffixes('datasets/masks/output/test/class1', 'datasets/masks/output/test/class1/annotations', '.xml')\n",
    "#separate_different_suffixes('datasets/masks/output/test/class1', 'datasets/masks/output/test/class1/images', '.png')\n",
    "separate_different_suffixes('datasets/masks/output/train/class1', 'datasets/masks/output/train/class1/annotations', '.xml')\n",
    "separate_different_suffixes('datasets/masks/output/train/class1', 'datasets/masks/output/train/class1/images', '.png')\n",
    "separate_different_suffixes('datasets/masks/output/val/class1', 'datasets/masks/output/val/class1/annotations', '.xml')\n",
    "separate_different_suffixes('datasets/masks/output/val/class1', 'datasets/masks/output/val/class1/images', '.png')"
   ],
   "metadata": {
    "collapsed": false,
    "pycharm": {
     "name": "#%%\n"
    }
   }
  },
  {
   "cell_type": "code",
   "execution_count": 40,
   "outputs": [],
   "source": [
    "from os import listdir\n",
    "from os.path import isfile, join, splitext\n",
    "\n",
    "def create_textfile(file_path, filename):\n",
    "    filenames = [splitext(f)[0] for f in listdir(file_path) if isfile(join(file_path, f)) and splitext(f)[1] == '.xml' ]\n",
    "    with open(join(file_path, f'{filename}.txt'), 'w') as f:\n",
    "        f.write('\\n'.join(sorted(filenames)))\n",
    "\n",
    "create_textfile('datasets/masks/output/test/class1/annotations', 'test')\n",
    "create_textfile('datasets/masks/output/train/class1/annotations', 'train')\n",
    "create_textfile('datasets/masks/output/val/class1/annotations', 'valid')"
   ],
   "metadata": {
    "collapsed": false,
    "pycharm": {
     "name": "#%%\n"
    }
   }
  },
  {
   "cell_type": "code",
   "execution_count": null,
   "outputs": [],
   "source": [],
   "metadata": {
    "collapsed": false,
    "pycharm": {
     "name": "#%%\n"
    }
   }
  }
 ],
 "metadata": {
  "kernelspec": {
   "display_name": "Python 3",
   "language": "python",
   "name": "python3"
  },
  "language_info": {
   "codemirror_mode": {
    "name": "ipython",
    "version": 2
   },
   "file_extension": ".py",
   "mimetype": "text/x-python",
   "name": "python",
   "nbconvert_exporter": "python",
   "pygments_lexer": "ipython2",
   "version": "2.7.6"
  }
 },
 "nbformat": 4,
 "nbformat_minor": 0
}